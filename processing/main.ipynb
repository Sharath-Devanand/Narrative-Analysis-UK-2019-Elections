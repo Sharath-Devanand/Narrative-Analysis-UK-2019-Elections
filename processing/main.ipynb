{
 "cells": [
  {
   "cell_type": "code",
   "execution_count": 7,
   "metadata": {},
   "outputs": [],
   "source": [
    "import pandas as pd\n",
    "\n",
    "from pre_processing_pipeline import pre_process_pipeline as pp\n",
    "from pre_processing_pipeline import response_LLM"
   ]
  },
  {
   "cell_type": "code",
   "execution_count": null,
   "metadata": {},
   "outputs": [],
   "source": [
    "df = pd.read_csv('Data/uk-ge-2019-sample_processed.csv')\n",
    "\n",
    "df['tweets'] = pp(df['text'])\n",
    "\n",
    "superNarratives = [\"Anti-EU-related narratives\",\"Anti-Elites\",\"Distrust in democratic system-related narratives\",\"Distrust in institutions-related narratives\",\"Ethnic-related\", \"Gender-related\", \"Geopolitics\", \"Migration-related\", \"Political hate-related\", \"Religious-related\"]\n",
    "\n",
    "out = response_LLM(df,superNarratives,'tweets')"
   ]
  }
 ],
 "metadata": {
  "kernelspec": {
   "display_name": "Python 3",
   "language": "python",
   "name": "python3"
  },
  "language_info": {
   "codemirror_mode": {
    "name": "ipython",
    "version": 3
   },
   "file_extension": ".py",
   "mimetype": "text/x-python",
   "name": "python",
   "nbconvert_exporter": "python",
   "pygments_lexer": "ipython3",
   "version": "3.11.0"
  }
 },
 "nbformat": 4,
 "nbformat_minor": 2
}
